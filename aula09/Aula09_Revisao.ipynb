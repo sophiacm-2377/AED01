{
 "cells": [
  {
   "cell_type": "markdown",
   "metadata": {},
   "source": [
    "![Algoritmos e Estrutura de Dados I](AED1_banner.jpg)"
   ]
  },
  {
   "cell_type": "markdown",
   "metadata": {},
   "source": [
    "## <font color='blue'>Algoritmos e Estrutura de Dados I</font>\n",
    "## <font color='blue'>Aula 9 -  Revisão</font>"
   ]
  },
  {
   "cell_type": "code",
   "execution_count": 3,
   "metadata": {},
   "outputs": [
    {
     "name": "stdout",
     "output_type": "stream",
     "text": [
      "Versão da Linguagem Python Usada Neste Jupyter Notebook: 3.12.7\n"
     ]
    }
   ],
   "source": [
    "# Versão da Linguagem Python\n",
    "from platform import python_version\n",
    "print('Versão da Linguagem Python Usada Neste Jupyter Notebook:', python_version())"
   ]
  },
  {
   "cell_type": "markdown",
   "metadata": {},
   "source": [
    "## Estrutura sequencial"
   ]
  },
  {
   "cell_type": "markdown",
   "metadata": {},
   "source": [
    "Escreva um programa em Python que solicite ao usuário o valor de dois números, calcule e exiba a soma deles."
   ]
  },
  {
   "cell_type": "code",
   "execution_count": 5,
   "metadata": {},
   "outputs": [
    {
     "name": "stdin",
     "output_type": "stream",
     "text": [
      "Digite o primeiro número:  5\n",
      "Digite o segundo número:  2\n"
     ]
    },
    {
     "name": "stdout",
     "output_type": "stream",
     "text": [
      "A soma dos dois números é: 7.0\n"
     ]
    }
   ],
   "source": [
    "# Solicita dois números ao usuário\n",
    "num1 = float(input(\"Digite o primeiro número: \"))\n",
    "num2 = float(input(\"Digite o segundo número: \"))\n",
    "\n",
    "# Calcula a soma\n",
    "soma = num1 + num2\n",
    "\n",
    "# Exibe o resultado\n",
    "print(f\"A soma dos dois números é: {soma}\")\n"
   ]
  },
  {
   "attachments": {},
   "cell_type": "markdown",
   "metadata": {},
   "source": [
    "Escreva um programa em Python que solicite ao usuário a temperatura em graus Celsius e converta para Fahrenheit. A fórmula para conversão é F = C * 9/5 + 32.\n"
   ]
  },
  {
   "cell_type": "code",
   "execution_count": 1,
   "metadata": {},
   "outputs": [
    {
     "name": "stdin",
     "output_type": "stream",
     "text": [
      "Digite a temperatura em graus Celsius:  18\n"
     ]
    },
    {
     "name": "stdout",
     "output_type": "stream",
     "text": [
      "18.00°C equivalem a 64.40°F\n"
     ]
    }
   ],
   "source": [
    "\n",
    "# Solicita a temperatura em graus Celsius\n",
    "celsius = float(input(\"Digite a temperatura em graus Celsius: \"))\n",
    "\n",
    "# Converte para Fahrenheit\n",
    "fahrenheit = celsius * 9/5 + 32\n",
    "\n",
    "# Exibe o resultado\n",
    "print(f\"{celsius:.2f}°C equivalem a {fahrenheit:.2f}°F\")\n"
   ]
  },
  {
   "cell_type": "markdown",
   "metadata": {},
   "source": [
    "## Estrutura Condicional"
   ]
  },
  {
   "cell_type": "markdown",
   "metadata": {},
   "source": [
    "Escreva um programa em Python que solicite ao usuário um número e verifique se ele é positivo, negativo ou zero. Exiba a mensagem correspondente.\n"
   ]
  },
  {
   "cell_type": "code",
   "execution_count": 7,
   "metadata": {},
   "outputs": [
    {
     "name": "stdin",
     "output_type": "stream",
     "text": [
      "Digite um número:  12\n"
     ]
    },
    {
     "name": "stdout",
     "output_type": "stream",
     "text": [
      "O número é positivo.\n"
     ]
    }
   ],
   "source": [
    "# Solicita um número ao usuário\n",
    "numero = float(input(\"Digite um número: \"))\n",
    "\n",
    "# Verifica se é positivo, negativo ou zero\n",
    "if numero > 0:\n",
    "    print(\"O número é positivo.\")\n",
    "elif numero < 0:\n",
    "    print(\"O número é negativo.\")\n",
    "else:\n",
    "    print(\"O número é zero.\")\n"
   ]
  },
  {
   "cell_type": "markdown",
   "metadata": {},
   "source": [
    "Escreva um programa em Python que solicite ao usuário três números e determine qual é o maior entre eles.\n"
   ]
  },
  {
   "cell_type": "code",
   "execution_count": 11,
   "metadata": {},
   "outputs": [
    {
     "name": "stdin",
     "output_type": "stream",
     "text": [
      "Digite o número de estudantes:  4\n",
      "Digite a nota do estudante 1:  3\n",
      "Digite a nota do estudante 2:  6\n",
      "Digite a nota do estudante 3:  8\n",
      "Digite a nota do estudante 4:  7\n"
     ]
    },
    {
     "name": "stdout",
     "output_type": "stream",
     "text": [
      "\n",
      "--- RESULTADOS ---\n",
      "Média das notas: 6.00\n",
      "Maior nota: 8.0\n",
      "Menor nota: 3.0\n",
      "Estudantes aprovados: 3\n",
      "Estudantes reprovados: 1\n"
     ]
    }
   ],
   "source": [
    "\n",
    "# Solicita o número de estudantes\n",
    "num_estudantes = int(input(\"Digite o número de estudantes: \"))\n",
    "\n",
    "# Inicializa variáveis\n",
    "soma_notas = 0\n",
    "maior_nota = 0\n",
    "menor_nota = 10\n",
    "aprovados = 0\n",
    "reprovados = 0\n",
    "\n",
    "# Coleta e analisa as notas\n",
    "for i in range(1, num_estudantes + 1):\n",
    "    nota = float(input(f\"Digite a nota do estudante {i}: \"))\n",
    "    \n",
    "    soma_notas += nota\n",
    "    \n",
    "    if nota > maior_nota:\n",
    "        maior_nota = nota\n",
    "    if nota < menor_nota:\n",
    "        menor_nota = nota\n",
    "    \n",
    "    if nota >= 6:\n",
    "        aprovados += 1\n",
    "    else:\n",
    "        reprovados += 1\n",
    "\n",
    "# Calcula média\n",
    "media = soma_notas / num_estudantes\n",
    "\n",
    "# Exibe os resultados\n",
    "print(\"\\n--- RESULTADOS ---\")\n",
    "print(f\"Média das notas: {media:.2f}\")\n",
    "print(f\"Maior nota: {maior_nota}\")\n",
    "print(f\"Menor nota: {menor_nota}\")\n",
    "print(f\"Estudantes aprovados: {aprovados}\")\n",
    "print(f\"Estudantes reprovados: {reprovados}\")"
   ]
  },
  {
   "cell_type": "markdown",
   "metadata": {},
   "source": [
    "## Estrutura de Repetição"
   ]
  },
  {
   "cell_type": "markdown",
   "metadata": {},
   "source": [
    "Escreva um programa em Python que exiba todos os números de 1 a 10.\n"
   ]
  },
  {
   "cell_type": "code",
   "execution_count": 13,
   "metadata": {},
   "outputs": [
    {
     "name": "stdout",
     "output_type": "stream",
     "text": [
      "1\n",
      "2\n",
      "3\n",
      "4\n",
      "5\n",
      "6\n",
      "7\n",
      "8\n",
      "9\n",
      "10\n"
     ]
    }
   ],
   "source": [
    "# Exibe os números de 1 a 10\n",
    "for i in range(1, 11):\n",
    "    print(i)\n"
   ]
  },
  {
   "cell_type": "markdown",
   "metadata": {},
   "source": [
    "Escreva um programa em Python que solicite ao usuário um número inteiro positivo e calcule o fatorial desse número.\n"
   ]
  },
  {
   "cell_type": "code",
   "execution_count": 16,
   "metadata": {},
   "outputs": [
    {
     "name": "stdin",
     "output_type": "stream",
     "text": [
      "Digite um número inteiro positivo:  30\n"
     ]
    },
    {
     "name": "stdout",
     "output_type": "stream",
     "text": [
      "O fatorial de 30 é: 265252859812191058636308480000000\n"
     ]
    }
   ],
   "source": [
    "# Solicita um número inteiro positivo\n",
    "num = int(input(\"Digite um número inteiro positivo: \"))\n",
    "\n",
    "# Verifica se o número é válido\n",
    "if num < 0:\n",
    "    print(\"Número inválido! O fatorial só é definido para números não negativos.\")\n",
    "else:\n",
    "    fatorial = 1\n",
    "    for i in range(1, num + 1):\n",
    "        fatorial *= i\n",
    "\n",
    "    print(f\"O fatorial de {num} é: {fatorial}\")\n"
   ]
  },
  {
   "cell_type": "markdown",
   "metadata": {},
   "source": [
    "## Geral"
   ]
  },
  {
   "cell_type": "markdown",
   "metadata": {},
   "source": [
    "Você é um cientista de dados e precisa analisar as notas de um conjunto de estudantes em uma disciplina. Você deverá escrever um programa em Python que solicite ao usuário o número de estudantes e, em seguida, as notas desses estudantes. O programa deve calcular e exibir:\n",
    "\n",
    "- A média das notas.\n",
    "- A maior e a menor nota.\n",
    "- O número de estudantes aprovados (nota maior ou igual a 6) e reprovados (nota menor que 6).\n",
    "\n",
    "Regras:\n",
    "\n",
    "- Utilize variáveis simples para armazenar as informações.\n",
    "- Utilize estruturas de repetição para coletar as notas dos estudantes.\n",
    "- Utilize estruturas condicionais para determinar o status de aprovação dos estudantes."
   ]
  },
  {
   "cell_type": "code",
   "execution_count": 20,
   "metadata": {},
   "outputs": [
    {
     "name": "stdin",
     "output_type": "stream",
     "text": [
      "Digite o número de estudantes:  8\n",
      "Digite a nota do estudante 1:  3\n",
      "Digite a nota do estudante 2:  6\n",
      "Digite a nota do estudante 3:  8\n",
      "Digite a nota do estudante 4:  3\n",
      "Digite a nota do estudante 5:  9\n",
      "Digite a nota do estudante 6:  2\n",
      "Digite a nota do estudante 7:  5\n",
      "Digite a nota do estudante 8:  1\n"
     ]
    }
   ],
   "source": [
    "# Solicita o número de estudantes\n",
    "num_estudantes = int(input(\"Digite o número de estudantes: \"))\n",
    "\n",
    "# Inicializa variáveis simples\n",
    "soma_notas = 0\n",
    "maior_nota = 0\n",
    "menor_nota = 10  # Supondo que a nota máxima seja 10\n",
    "aprovados = 0\n",
    "reprovados = 0\n",
    "\n",
    "# Estrutura de repetição para coletar as notas\n",
    "for i in range(1, num_estudantes + 1):\n",
    "    nota = float(input(f\"Digite a nota do estudante {i}: \"))\n",
    "    \n",
    "    # Soma total\n",
    "    soma_notas += nota\n",
    "\n",
    "    # Atualiza maior e menor nota\n",
    "    if nota > maior_nota:\n",
    "        maior_nota = nota\n",
    "    if nota < menor_nota:\n",
    "        menor_nota = nota\n",
    "\n",
    "    # Condicional para verificar aprovação\n",
    "    if nota >= 6:\n",
    "        aprovados += 1\n"
   ]
  },
  {
   "cell_type": "markdown",
   "metadata": {},
   "source": [
    "Faça um programa que receba um número inteiro positivo e transforme esse número para binário."
   ]
  },
  {
   "cell_type": "code",
   "execution_count": 22,
   "metadata": {},
   "outputs": [
    {
     "name": "stdin",
     "output_type": "stream",
     "text": [
      "Digite um número inteiro positivo:  20\n"
     ]
    },
    {
     "name": "stdout",
     "output_type": "stream",
     "text": [
      "O número 20 em binário é: 10100\n"
     ]
    }
   ],
   "source": [
    "# Solicita um número inteiro positivo\n",
    "numero = int(input(\"Digite um número inteiro positivo: \"))\n",
    "\n",
    "# Verifica se é positivo\n",
    "if numero < 0:\n",
    "    print(\"O número precisa ser positivo.\")\n",
    "else:\n",
    "    binario = bin(numero)[2:]  # Remove o prefixo '0b'\n",
    "    print(f\"O número {numero} em binário é: {binario}\")\n"
   ]
  },
  {
   "cell_type": "markdown",
   "metadata": {},
   "source": [
    "## Fim da Aula 9"
   ]
  }
 ],
 "metadata": {
  "kernelspec": {
   "display_name": "Python [conda env:base] *",
   "language": "python",
   "name": "conda-base-py"
  },
  "language_info": {
   "codemirror_mode": {
    "name": "ipython",
    "version": 3
   },
   "file_extension": ".py",
   "mimetype": "text/x-python",
   "name": "python",
   "nbconvert_exporter": "python",
   "pygments_lexer": "ipython3",
   "version": "3.12.7"
  }
 },
 "nbformat": 4,
 "nbformat_minor": 4
}
