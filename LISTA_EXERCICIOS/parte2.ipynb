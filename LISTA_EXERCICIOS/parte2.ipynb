{
 "cells": [
  {
   "cell_type": "code",
   "execution_count": null,
   "id": "d3132aac-3211-49aa-939d-29d4c56c490f",
   "metadata": {},
   "outputs": [],
   "source": [
    "#Exercício 1\n",
    "#Peça uma nota entre 0 e 10. Mostre mensagem se for inválida e repita até ser válida.\n",
    "while True:\n",
    "    nota = float(input(\"Digite uma nota entre 0 e 10: \"))\n",
    "    if 0 <= nota <= 10:\n",
    "        print(\"Nota válida:\", nota)\n",
    "        break\n",
    "    else:\n",
    "        print(\"Nota inválida. Tente novamente.\")"
   ]
  },
  {
   "cell_type": "code",
   "execution_count": null,
   "id": "f91fb515-5db6-4280-9db0-785f619f96bf",
   "metadata": {},
   "outputs": [],
   "source": [
    "#Exercício 2\n",
    "#Leia usuário e senha. Senha não pode ser igual ao usuário.\n",
    "while True:\n",
    "    usuario = input(\"Digite o nome de usuário: \")\n",
    "    senha = input(\"Digite a senha: \")\n",
    "    if senha == usuario:\n",
    "        print(\"Erro: a senha não pode ser igual ao nome de usuário. Tente novamente.\")\n",
    "    else:\n",
    "        print(\"Cadastro realizado com sucesso!\")\n",
    "        break"
   ]
  },
  {
   "cell_type": "code",
   "execution_count": null,
   "id": "8dade29f-1364-4f6b-a465-1b0f09790587",
   "metadata": {},
   "outputs": [],
   "source": [
    "#Exercício 3\n",
    "# Valida nome\n",
    "while True:\n",
    "    nome = input(\"Digite seu nome: \")\n",
    "    if len(nome) > 3:\n",
    "        break\n",
    "    else:\n",
    "        print(\"Nome deve ter mais de 3 caracteres.\")\n",
    "\n",
    "# Valida idade\n",
    "while True:\n",
    "    idade = int(input(\"Digite sua idade: \"))\n",
    "    if 0 <= idade <= 150:\n",
    "        break\n",
    "    else:\n",
    "        print(\"Idade inválida. Digite entre 0 e 150.\")\n",
    "\n",
    "# Valida salário\n",
    "while True:\n",
    "    salario = float(input(\"Digite seu salário: \"))\n",
    "    if salario > 0:\n",
    "        break\n",
    "    else:\n",
    "        print(\"Salário deve ser maior que zero.\")\n",
    "\n",
    "# Valida sexo\n",
    "while True:\n",
    "    sexo = input(\"Digite seu sexo (f/m): \").lower()\n",
    "    if sexo in ['f', 'm']:\n",
    "        break\n",
    "    else:\n",
    "        print(\"Sexo inválido. Digite 'f' ou 'm'.\")\n",
    "\n",
    "# Valida estado civil\n",
    "while True:\n",
    "    estado_civil = input(\"Estado civil (s/c/v/d): \").lower()\n",
    "    if estado_civil in ['s', 'c', 'v', 'd']:\n",
    "        break\n",
    "    else:\n",
    "        print(\"Estado civil inválido.\")"
   ]
  },
  {
   "cell_type": "code",
   "execution_count": null,
   "id": "9a7f3c32-4873-45e9-8dbc-81bc3132f042",
   "metadata": {},
   "outputs": [],
   "source": [
    "#Exercício 4\n",
    "#População A (80.000) cresce 3% ao ano, B (200.000) cresce 1.5%. Calcule anos até A ≥ B.\n",
    "pop_a = 80000\n",
    "pop_b = 200000\n",
    "anos = 0\n",
    "\n",
    "while pop_a < pop_b:\n",
    "    pop_a *= 1.03  # aumenta 3%\n",
    "    pop_b *= 1.015  # aumenta 1.5%\n",
    "    anos += 1\n",
    "\n",
    "print(\"Anos necessários:\", anos)\n"
   ]
  },
  {
   "cell_type": "code",
   "execution_count": null,
   "id": "c95a7c19-ae7d-4a09-931b-1daa6169f8fd",
   "metadata": {},
   "outputs": [],
   "source": [
    "#Exercício 5\n",
    "#Leia 5 números. Informe a soma e a média.\n",
    "soma = 0\n",
    "\n",
    "for i in range(5):\n",
    "    numero = float(input(f\"Digite o {i+1}º número: \"))\n",
    "    soma += numero\n",
    "\n",
    "media = soma / 5\n",
    "\n",
    "print(\"Soma:\", soma)\n",
    "print(\"Média:\", media)\n"
   ]
  },
  {
   "cell_type": "code",
   "execution_count": null,
   "id": "47eae8dc-deac-4c0c-b0b6-cc42f899690c",
   "metadata": {},
   "outputs": [],
   "source": [
    "#Exercício 6\n",
    "#Gerador de tabuada de 1 a 10 para um número informado.\n",
    "numero = int(input(\"Digite um número de 1 a 10: \"))\n",
    "\n",
    "print(f\"Tabuada de {numero}:\")\n",
    "for i in range(1, 11):\n",
    "    print(f\"{numero} X {i} = {numero * i}\")"
   ]
  },
  {
   "cell_type": "code",
   "execution_count": null,
   "id": "d098e335-e368-4fe5-840e-bd8d8686208e",
   "metadata": {},
   "outputs": [],
   "source": [
    "#Exercício 7\n",
    "#Gere a sequência de Fibonacci até o n-ésimo termo.\n",
    "n = int(input(\"Quantos termos da sequência Fibonacci deseja? \"))\n",
    "\n",
    "a, b = 1, 1\n",
    "print(a)\n",
    "print(b)\n",
    "\n",
    "for i in range(n - 2):\n",
    "    proximo = a + b\n",
    "    print(proximo)\n",
    "    a, b = b, proximo\n"
   ]
  },
  {
   "cell_type": "code",
   "execution_count": null,
   "id": "605316ab-98ff-4365-ba8b-887559dcbb38",
   "metadata": {},
   "outputs": [],
   "source": [
    "#Exercício 8\n",
    "#Calcule a média aritmética de N notas.\n",
    "n = int(input(\"Quantas notas você deseja informar? \"))\n",
    "soma = 0\n",
    "\n",
    "for i in range(n):\n",
    "    nota = float(input(f\"Digite a nota {i+1}: \"))\n",
    "    soma += nota\n",
    "\n",
    "media = soma / n\n",
    "print(\"Média das notas:\", media)"
   ]
  },
  {
   "cell_type": "code",
   "execution_count": null,
   "id": "948da6d7-19f1-4c92-bbe0-c6f0b24cbbfc",
   "metadata": {},
   "outputs": [],
   "source": [
    "#Exercício 9\n",
    "#Tabela de preços de 1 a 50 itens (R$ 1,99 cada).\n",
    "print(\"Lojas Quase Dois - Tabela de preços\")\n",
    "for i in range(1, 51):\n",
    "    preco = i * 1.99\n",
    "    print(f\"{i} - R$ {preco:.2f}\")\n"
   ]
  },
  {
   "cell_type": "code",
   "execution_count": null,
   "id": "49c3cfb8-f1b6-4d81-b1f6-2d0748afcf9f",
   "metadata": {},
   "outputs": [],
   "source": [
    "#Exercício 10\n",
    "#Leia várias temperaturas e ao final informe menor, maior e média.\n",
    "soma = 0\n",
    "quantidade = 0\n",
    "menor = None\n",
    "maior = None\n",
    "\n",
    "while True:\n",
    "    entrada = input(\"Digite uma temperatura (ou 'fim' para sair): \")\n",
    "    if entrada.lower() == 'fim':\n",
    "        break\n",
    "    temperatura = float(entrada)\n",
    "    soma += temperatura\n",
    "    quantidade += 1\n",
    "\n",
    "    if menor is None or temperatura < menor:\n",
    "        menor = temperatura\n",
    "    if maior is None or temperatura > maior:\n",
    "        maior = temperatura\n",
    "\n",
    "if quantidade > 0:\n",
    "    media = soma / quantidade\n",
    "    print(\"Menor temperatura:\", menor)\n",
    "    print(\"Maior temperatura:\", maior)\n",
    "    print(\"Média das temperaturas:\", media)\n",
    "else:\n",
    "    print(\"Nenhuma temperatura foi informada.\")"
   ]
  }
 ],
 "metadata": {
  "kernelspec": {
   "display_name": "Python 3 (ipykernel)",
   "language": "python",
   "name": "python3"
  },
  "language_info": {
   "codemirror_mode": {
    "name": "ipython",
    "version": 3
   },
   "file_extension": ".py",
   "mimetype": "text/x-python",
   "name": "python",
   "nbconvert_exporter": "python",
   "pygments_lexer": "ipython3",
   "version": "3.12.7"
  }
 },
 "nbformat": 4,
 "nbformat_minor": 5
}
