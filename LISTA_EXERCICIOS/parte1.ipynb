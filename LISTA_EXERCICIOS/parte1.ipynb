{
 "cells": [
  {
   "cell_type": "code",
   "execution_count": 3,
   "id": "28bd49ae-3fd5-4858-b212-07bc35b5d182",
   "metadata": {},
   "outputs": [
    {
     "name": "stdin",
     "output_type": "stream",
     "text": [
      "Digite um número:  12\n"
     ]
    },
    {
     "name": "stdout",
     "output_type": "stream",
     "text": [
      "O número é par.\n",
      "O número é positivo.\n"
     ]
    }
   ],
   "source": [
    "#Exercício 0\n",
    "#Ler um número e mostrar se ele é par ou ímpar, positivo ou negativo.\n",
    "numero = int(input(\"Digite um número: \"))\n",
    "if numero % 2 == 0:\n",
    "    print(\"O número é par.\")\n",
    "else:\n",
    "    print(\"O número é ímpar.\")\n",
    "\n",
    "if numero >= 0:\n",
    "    print(\"O número é positivo.\")\n",
    "else:\n",
    "    print(\"O número é negativo.\")"
   ]
  },
  {
   "cell_type": "code",
   "execution_count": 4,
   "id": "f3eac971-f1a3-4367-b5d6-3c298706da3d",
   "metadata": {},
   "outputs": [
    {
     "name": "stdin",
     "output_type": "stream",
     "text": [
      "Digite o primeiro número:  10\n",
      "Digite o segundo número:  30\n"
     ]
    },
    {
     "name": "stdout",
     "output_type": "stream",
     "text": [
      "O maior número é: 30.0\n"
     ]
    }
   ],
   "source": [
    "#Exercício 1\n",
    "#Peça dois números e imprima o maior deles.\n",
    "a = float(input(\"Digite o primeiro número: \"))\n",
    "b = float(input(\"Digite o segundo número: \"))\n",
    "\n",
    "if a > b:\n",
    "    print(\"O maior número é:\", a)\n",
    "else:\n",
    "    print(\"O maior número é:\", b)\n"
   ]
  },
  {
   "cell_type": "code",
   "execution_count": 5,
   "id": "1d8965b2-50b2-4c7f-972a-c76742d1ee1f",
   "metadata": {},
   "outputs": [
    {
     "name": "stdin",
     "output_type": "stream",
     "text": [
      "Digite um valor:  21\n"
     ]
    },
    {
     "name": "stdout",
     "output_type": "stream",
     "text": [
      "O valor é positivo.\n"
     ]
    }
   ],
   "source": [
    "#Exercício 2\n",
    "#Peça um valor e diga se ele é positivo ou negativo.\n",
    "valor = float(input(\"Digite um valor: \"))\n",
    "\n",
    "if valor >= 0:\n",
    "    print(\"O valor é positivo.\")\n",
    "else:\n",
    "    print(\"O valor é negativo.\")"
   ]
  },
  {
   "cell_type": "code",
   "execution_count": 6,
   "id": "1ff485a3-4cfb-4b75-977d-e86403f3e937",
   "metadata": {},
   "outputs": [
    {
     "name": "stdin",
     "output_type": "stream",
     "text": [
      "Digite uma letra:  a\n"
     ]
    },
    {
     "name": "stdout",
     "output_type": "stream",
     "text": [
      "É uma vogal.\n"
     ]
    }
   ],
   "source": [
    "#Exercício 3\n",
    "#Verifique se uma letra é vogal ou consoante.\n",
    "letra = input(\"Digite uma letra: \").lower()\n",
    "\n",
    "if letra in 'aeiou':\n",
    "    print(\"É uma vogal.\")\n",
    "else:\n",
    "    print(\"É uma consoante.\")\n"
   ]
  },
  {
   "cell_type": "code",
   "execution_count": 7,
   "id": "4254b934-91e0-4d87-ab5e-8db040fb59bf",
   "metadata": {},
   "outputs": [
    {
     "name": "stdin",
     "output_type": "stream",
     "text": [
      "Digite a primeira nota:  6\n",
      "Digite a segunda nota:  9\n"
     ]
    },
    {
     "name": "stdout",
     "output_type": "stream",
     "text": [
      "Aprovado\n"
     ]
    }
   ],
   "source": [
    "#Exercício 4\n",
    "#Ler duas notas, calcular a média e dar o resultado:\n",
    "nota1 = float(input(\"Digite a primeira nota: \"))\n",
    "nota2 = float(input(\"Digite a segunda nota: \"))\n",
    "\n",
    "media = (nota1 + nota2) / 2\n",
    "\n",
    "if media == 10:\n",
    "    print(\"Aprovado com Distinção\")\n",
    "elif media >= 7:\n",
    "    print(\"Aprovado\")\n",
    "else:\n",
    "    print(\"Reprovado\")"
   ]
  },
  {
   "cell_type": "code",
   "execution_count": 8,
   "id": "15f5ec5e-73c3-4cc4-aeb0-b8695c25d71e",
   "metadata": {},
   "outputs": [
    {
     "name": "stdin",
     "output_type": "stream",
     "text": [
      "Preço do produto 1:  20\n",
      "Preço do produto 2:  22\n",
      "Preço do produto 3:  21\n"
     ]
    },
    {
     "name": "stdout",
     "output_type": "stream",
     "text": [
      "Compre o produto 1.\n"
     ]
    }
   ],
   "source": [
    "#Exercício 5\n",
    "#Pergunte o preço de três produtos e diga qual é o mais barato.\n",
    "p1 = float(input(\"Preço do produto 1: \"))\n",
    "p2 = float(input(\"Preço do produto 2: \"))\n",
    "p3 = float(input(\"Preço do produto 3: \"))\n",
    "\n",
    "if p1 < p2 and p1 < p3:\n",
    "    print(\"Compre o produto 1.\")\n",
    "elif p2 < p3:\n",
    "    print(\"Compre o produto 2.\")\n",
    "else:\n",
    "    print(\"Compre o produto 3.\")"
   ]
  },
  {
   "cell_type": "code",
   "execution_count": 9,
   "id": "6ae9a5d8-0581-47b9-9724-2146bbabc2a3",
   "metadata": {},
   "outputs": [
    {
     "name": "stdin",
     "output_type": "stream",
     "text": [
      "Digite o primeiro número:  23\n",
      "Digite o segundo número:  45\n",
      "Digite o terceiro número:  65\n"
     ]
    },
    {
     "name": "stdout",
     "output_type": "stream",
     "text": [
      "Números em ordem decrescente: [65.0, 45.0, 23.0]\n"
     ]
    }
   ],
   "source": [
    "#Exercício 6\n",
    "#Leia três números e mostre em ordem decrescente.\n",
    "a = float(input(\"Digite o primeiro número: \"))\n",
    "b = float(input(\"Digite o segundo número: \"))\n",
    "c = float(input(\"Digite o terceiro número: \"))\n",
    "\n",
    "numeros = [a, b, c]\n",
    "numeros.sort(reverse=True)\n",
    "\n",
    "print(\"Números em ordem decrescente:\", numeros)"
   ]
  },
  {
   "cell_type": "code",
   "execution_count": 10,
   "id": "4984b48a-67fa-4700-8b1d-3dd84919210b",
   "metadata": {},
   "outputs": [
    {
     "name": "stdin",
     "output_type": "stream",
     "text": [
      "Digite M para matutino, V para vespertino ou N para noturno:  M\n"
     ]
    },
    {
     "name": "stdout",
     "output_type": "stream",
     "text": [
      "Bom Dia!\n"
     ]
    }
   ],
   "source": [
    "#Exercício 7\n",
    "#Pergunte o turno e exiba a saudação adequada.\n",
    "turno = input(\"Digite M para matutino, V para vespertino ou N para noturno: \").upper()\n",
    "\n",
    "if turno == \"M\":\n",
    "    print(\"Bom Dia!\")\n",
    "elif turno == \"V\":\n",
    "    print(\"Boa Tarde!\")\n",
    "elif turno == \"N\":\n",
    "    print(\"Boa Noite!\")\n",
    "else:\n",
    "    print(\"Valor Inválido!\")"
   ]
  },
  {
   "cell_type": "code",
   "execution_count": 12,
   "id": "bc146a9b-232b-4688-a8a6-18fcc2817d1f",
   "metadata": {},
   "outputs": [
    {
     "name": "stdin",
     "output_type": "stream",
     "text": [
      "Digite o salário atual:  1519\n"
     ]
    },
    {
     "name": "stdout",
     "output_type": "stream",
     "text": [
      "Salário antes do reajuste: R$ 1519.0\n",
      "Percentual de aumento: 5 %\n",
      "Valor do aumento: R$ 75.95\n",
      "Novo salário: R$ 1594.95\n"
     ]
    }
   ],
   "source": [
    "#Exercício 8\n",
    "#Aumento de salário conforme faixas salariais.\n",
    "salario = float(input(\"Digite o salário atual: \"))\n",
    "\n",
    "if salario <= 280:\n",
    "    percentual = 20\n",
    "elif salario <= 700:\n",
    "    percentual = 15\n",
    "elif salario <= 1500:\n",
    "    percentual = 10\n",
    "else:\n",
    "    percentual = 5\n",
    "\n",
    "aumento = salario * percentual / 100\n",
    "novo_salario = salario + aumento\n",
    "\n",
    "print(\"Salário antes do reajuste: R$\", salario)\n",
    "print(\"Percentual de aumento:\", percentual, \"%\")\n",
    "print(\"Valor do aumento: R$\", aumento)\n",
    "print(\"Novo salário: R$\", novo_salario)"
   ]
  },
  {
   "cell_type": "code",
   "execution_count": 13,
   "id": "7f495488-28ac-4248-84df-fd89a44edc4c",
   "metadata": {},
   "outputs": [
    {
     "name": "stdin",
     "output_type": "stream",
     "text": [
      "Informe o valor da sua hora:  100\n",
      "Informe a quantidade de horas trabalhadas no mês:  6\n"
     ]
    },
    {
     "name": "stdout",
     "output_type": "stream",
     "text": [
      "Salário Bruto: (100.0 * 6) : R$ 600.00\n",
      "(-) IR (0%) : R$ 0.00\n",
      "(-) INSS (10%) : R$ 60.00\n",
      "FGTS (11%) : R$ 66.00\n",
      "Total de descontos : R$ 60.00\n",
      "Salário Líquido : R$ 540.00\n"
     ]
    }
   ],
   "source": [
    "#Exercício 9\n",
    "#Folha de pagamento com descontos.\n",
    "valor_hora = float(input(\"Informe o valor da sua hora: \"))\n",
    "horas = int(input(\"Informe a quantidade de horas trabalhadas no mês: \"))\n",
    "\n",
    "salario_bruto = valor_hora * horas\n",
    "\n",
    "# Calcula desconto do IR\n",
    "if salario_bruto <= 900:\n",
    "    ir = 0\n",
    "    ir_percentual = 0\n",
    "elif salario_bruto <= 1500:\n",
    "    ir = salario_bruto * 0.05\n",
    "    ir_percentual = 5\n",
    "elif salario_bruto <= 2500:\n",
    "    ir = salario_bruto * 0.10\n",
    "    ir_percentual = 1015\n",
    "else:\n",
    "    ir = salario_bruto * 0.20\n",
    "    ir_percentual = 20\n",
    "\n",
    "inss = salario_bruto * 0.10\n",
    "fgts = salario_bruto * 0.11\n",
    "total_descontos = ir + inss\n",
    "salario_liquido = salario_bruto - total_descontos\n",
    "\n",
    "print(f\"Salário Bruto: ({valor_hora} * {horas}) : R$ {salario_bruto:.2f}\")\n",
    "print(f\"(-) IR ({ir_percentual}%) : R$ {ir:.2f}\")\n",
    "print(f\"(-) INSS (10%) : R$ {inss:.2f}\")\n",
    "print(f\"FGTS (11%) : R$ {fgts:.2f}\")\n",
    "print(f\"Total de descontos : R$ {total_descontos:.2f}\")\n",
    "print(f\"Salário Líquido : R$ {salario_liquido:.2f}\")\n"
   ]
  },
  {
   "cell_type": "code",
   "execution_count": 14,
   "id": "b936620b-7340-4bc5-ba7b-119b8c29da92",
   "metadata": {},
   "outputs": [
    {
     "name": "stdin",
     "output_type": "stream",
     "text": [
      "Digite a primeira nota:  15\n",
      "Digite a segunda nota:  30\n"
     ]
    },
    {
     "name": "stdout",
     "output_type": "stream",
     "text": [
      "Média: 22.5\n",
      "Conceito: A\n"
     ]
    }
   ],
   "source": [
    "#Exercício 10\n",
    "#Ler duas notas e atribuir conceito:\n",
    "nota1 = float(input(\"Digite a primeira nota: \"))\n",
    "nota2 = float(input(\"Digite a segunda nota: \"))\n",
    "\n",
    "media = (nota1 + nota2) / 2\n",
    "\n",
    "if media >= 9.0:\n",
    "    conceito = 'A'\n",
    "elif media >= 7.5:\n",
    "    conceito = 'B'\n",
    "elif media >= 6.0:\n",
    "    conceito = 'C'\n",
    "elif media >= 4.0:\n",
    "    conceito = 'D'\n",
    "else:\n",
    "    conceito = 'E'\n",
    "\n",
    "print(\"Média:\", media)\n",
    "print(\"Conceito:\", conceito)"
   ]
  },
  {
   "cell_type": "code",
   "execution_count": null,
   "id": "a4559ffe-9506-4c2e-a301-4a968fd680d7",
   "metadata": {},
   "outputs": [],
   "source": []
  }
 ],
 "metadata": {
  "kernelspec": {
   "display_name": "Python 3 (ipykernel)",
   "language": "python",
   "name": "python3"
  },
  "language_info": {
   "codemirror_mode": {
    "name": "ipython",
    "version": 3
   },
   "file_extension": ".py",
   "mimetype": "text/x-python",
   "name": "python",
   "nbconvert_exporter": "python",
   "pygments_lexer": "ipython3",
   "version": "3.12.7"
  }
 },
 "nbformat": 4,
 "nbformat_minor": 5
}
